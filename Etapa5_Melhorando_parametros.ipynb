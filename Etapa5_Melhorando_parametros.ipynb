{
 "cells": [
  {
   "cell_type": "markdown",
   "id": "9ab1f7a6",
   "metadata": {},
   "source": [
    "# House Prices - Advanced Regression Techniques\n",
    "(Preços de casas - Técnicas Avançadas de Regressão)\n",
    "\n",
    "- Vamos utilizar o [dataset disponível no Kaggle](https://www.kaggle.com/competitions/house-prices-advanced-regression-techniques/overview)\n",
    "    - É um dataset de **competição**\n",
    "    - Temos uma base com a **descrição de cada uma das colunas (data_description.txt)**"
   ]
  },
  {
   "cell_type": "code",
   "execution_count": 2,
   "id": "0233c934",
   "metadata": {},
   "outputs": [],
   "source": [
    "# Importando as bases\n",
    "import pandas as pd\n",
    "treino = pd.read_csv('train_3_1.csv')\n",
    "teste = pd.read_csv('test_3_1.csv')"
   ]
  },
  {
   "cell_type": "code",
   "execution_count": 3,
   "id": "3c8d95e7",
   "metadata": {},
   "outputs": [
    {
     "data": {
      "text/plain": [
       "(1460, 85)"
      ]
     },
     "execution_count": 3,
     "metadata": {},
     "output_type": "execute_result"
    }
   ],
   "source": [
    "# Verificando o formato da base\n",
    "treino.shape"
   ]
  },
  {
   "cell_type": "code",
   "execution_count": 4,
   "id": "bfd24d0c",
   "metadata": {},
   "outputs": [
    {
     "data": {
      "text/plain": [
       "int64      42\n",
       "object     35\n",
       "float64     8\n",
       "Name: count, dtype: int64"
      ]
     },
     "execution_count": 4,
     "metadata": {},
     "output_type": "execute_result"
    }
   ],
   "source": [
    "# Verificando o tipo de dados nas colunas\n",
    "treino.dtypes.value_counts()"
   ]
  },
  {
   "cell_type": "markdown",
   "id": "4484d72f",
   "metadata": {},
   "source": [
    "- Precisamos garantir que não vamos ter colunas de texto."
   ]
  },
  {
   "cell_type": "code",
   "execution_count": 6,
   "id": "3bbab431",
   "metadata": {},
   "outputs": [
    {
     "data": {
      "text/html": [
       "<div>\n",
       "<style scoped>\n",
       "    .dataframe tbody tr th:only-of-type {\n",
       "        vertical-align: middle;\n",
       "    }\n",
       "\n",
       "    .dataframe tbody tr th {\n",
       "        vertical-align: top;\n",
       "    }\n",
       "\n",
       "    .dataframe thead th {\n",
       "        text-align: right;\n",
       "    }\n",
       "</style>\n",
       "<table border=\"1\" class=\"dataframe\">\n",
       "  <thead>\n",
       "    <tr style=\"text-align: right;\">\n",
       "      <th></th>\n",
       "      <th>Id</th>\n",
       "      <th>MSSubClass</th>\n",
       "      <th>LotFrontage</th>\n",
       "      <th>LotArea</th>\n",
       "      <th>OverallQual</th>\n",
       "      <th>OverallCond</th>\n",
       "      <th>YearBuilt</th>\n",
       "      <th>YearRemodAdd</th>\n",
       "      <th>MasVnrArea</th>\n",
       "      <th>BsmtFinSF1</th>\n",
       "      <th>...</th>\n",
       "      <th>MSZoning_C (all)</th>\n",
       "      <th>MSZoning_FV</th>\n",
       "      <th>MSZoning_RH</th>\n",
       "      <th>MSZoning_RL</th>\n",
       "      <th>MSZoning_RM</th>\n",
       "      <th>GarageType_-1</th>\n",
       "      <th>GarageType_Attchd</th>\n",
       "      <th>GarageType_BuiltIn</th>\n",
       "      <th>GarageType_Detchd</th>\n",
       "      <th>GarageType_infrequent_sklearn</th>\n",
       "    </tr>\n",
       "  </thead>\n",
       "  <tbody>\n",
       "    <tr>\n",
       "      <th>0</th>\n",
       "      <td>1</td>\n",
       "      <td>60</td>\n",
       "      <td>65.0</td>\n",
       "      <td>8450</td>\n",
       "      <td>7</td>\n",
       "      <td>5</td>\n",
       "      <td>2003</td>\n",
       "      <td>2003</td>\n",
       "      <td>196.0</td>\n",
       "      <td>706</td>\n",
       "      <td>...</td>\n",
       "      <td>0.0</td>\n",
       "      <td>0.0</td>\n",
       "      <td>0.0</td>\n",
       "      <td>1.0</td>\n",
       "      <td>0.0</td>\n",
       "      <td>0</td>\n",
       "      <td>1</td>\n",
       "      <td>0</td>\n",
       "      <td>0</td>\n",
       "      <td>0</td>\n",
       "    </tr>\n",
       "    <tr>\n",
       "      <th>1</th>\n",
       "      <td>2</td>\n",
       "      <td>20</td>\n",
       "      <td>80.0</td>\n",
       "      <td>9600</td>\n",
       "      <td>6</td>\n",
       "      <td>8</td>\n",
       "      <td>1976</td>\n",
       "      <td>1976</td>\n",
       "      <td>0.0</td>\n",
       "      <td>978</td>\n",
       "      <td>...</td>\n",
       "      <td>0.0</td>\n",
       "      <td>0.0</td>\n",
       "      <td>0.0</td>\n",
       "      <td>1.0</td>\n",
       "      <td>0.0</td>\n",
       "      <td>0</td>\n",
       "      <td>1</td>\n",
       "      <td>0</td>\n",
       "      <td>0</td>\n",
       "      <td>0</td>\n",
       "    </tr>\n",
       "    <tr>\n",
       "      <th>2</th>\n",
       "      <td>3</td>\n",
       "      <td>60</td>\n",
       "      <td>68.0</td>\n",
       "      <td>11250</td>\n",
       "      <td>7</td>\n",
       "      <td>5</td>\n",
       "      <td>2001</td>\n",
       "      <td>2002</td>\n",
       "      <td>162.0</td>\n",
       "      <td>486</td>\n",
       "      <td>...</td>\n",
       "      <td>0.0</td>\n",
       "      <td>0.0</td>\n",
       "      <td>0.0</td>\n",
       "      <td>1.0</td>\n",
       "      <td>0.0</td>\n",
       "      <td>0</td>\n",
       "      <td>1</td>\n",
       "      <td>0</td>\n",
       "      <td>0</td>\n",
       "      <td>0</td>\n",
       "    </tr>\n",
       "    <tr>\n",
       "      <th>3</th>\n",
       "      <td>4</td>\n",
       "      <td>70</td>\n",
       "      <td>60.0</td>\n",
       "      <td>9550</td>\n",
       "      <td>7</td>\n",
       "      <td>5</td>\n",
       "      <td>1915</td>\n",
       "      <td>1970</td>\n",
       "      <td>0.0</td>\n",
       "      <td>216</td>\n",
       "      <td>...</td>\n",
       "      <td>0.0</td>\n",
       "      <td>0.0</td>\n",
       "      <td>0.0</td>\n",
       "      <td>1.0</td>\n",
       "      <td>0.0</td>\n",
       "      <td>0</td>\n",
       "      <td>0</td>\n",
       "      <td>0</td>\n",
       "      <td>1</td>\n",
       "      <td>0</td>\n",
       "    </tr>\n",
       "    <tr>\n",
       "      <th>4</th>\n",
       "      <td>5</td>\n",
       "      <td>60</td>\n",
       "      <td>84.0</td>\n",
       "      <td>14260</td>\n",
       "      <td>8</td>\n",
       "      <td>5</td>\n",
       "      <td>2000</td>\n",
       "      <td>2000</td>\n",
       "      <td>350.0</td>\n",
       "      <td>655</td>\n",
       "      <td>...</td>\n",
       "      <td>0.0</td>\n",
       "      <td>0.0</td>\n",
       "      <td>0.0</td>\n",
       "      <td>1.0</td>\n",
       "      <td>0.0</td>\n",
       "      <td>0</td>\n",
       "      <td>1</td>\n",
       "      <td>0</td>\n",
       "      <td>0</td>\n",
       "      <td>0</td>\n",
       "    </tr>\n",
       "    <tr>\n",
       "      <th>...</th>\n",
       "      <td>...</td>\n",
       "      <td>...</td>\n",
       "      <td>...</td>\n",
       "      <td>...</td>\n",
       "      <td>...</td>\n",
       "      <td>...</td>\n",
       "      <td>...</td>\n",
       "      <td>...</td>\n",
       "      <td>...</td>\n",
       "      <td>...</td>\n",
       "      <td>...</td>\n",
       "      <td>...</td>\n",
       "      <td>...</td>\n",
       "      <td>...</td>\n",
       "      <td>...</td>\n",
       "      <td>...</td>\n",
       "      <td>...</td>\n",
       "      <td>...</td>\n",
       "      <td>...</td>\n",
       "      <td>...</td>\n",
       "      <td>...</td>\n",
       "    </tr>\n",
       "    <tr>\n",
       "      <th>1455</th>\n",
       "      <td>1456</td>\n",
       "      <td>60</td>\n",
       "      <td>62.0</td>\n",
       "      <td>7917</td>\n",
       "      <td>6</td>\n",
       "      <td>5</td>\n",
       "      <td>1999</td>\n",
       "      <td>2000</td>\n",
       "      <td>0.0</td>\n",
       "      <td>0</td>\n",
       "      <td>...</td>\n",
       "      <td>0.0</td>\n",
       "      <td>0.0</td>\n",
       "      <td>0.0</td>\n",
       "      <td>1.0</td>\n",
       "      <td>0.0</td>\n",
       "      <td>0</td>\n",
       "      <td>1</td>\n",
       "      <td>0</td>\n",
       "      <td>0</td>\n",
       "      <td>0</td>\n",
       "    </tr>\n",
       "    <tr>\n",
       "      <th>1456</th>\n",
       "      <td>1457</td>\n",
       "      <td>20</td>\n",
       "      <td>85.0</td>\n",
       "      <td>13175</td>\n",
       "      <td>6</td>\n",
       "      <td>6</td>\n",
       "      <td>1978</td>\n",
       "      <td>1988</td>\n",
       "      <td>119.0</td>\n",
       "      <td>790</td>\n",
       "      <td>...</td>\n",
       "      <td>0.0</td>\n",
       "      <td>0.0</td>\n",
       "      <td>0.0</td>\n",
       "      <td>1.0</td>\n",
       "      <td>0.0</td>\n",
       "      <td>0</td>\n",
       "      <td>1</td>\n",
       "      <td>0</td>\n",
       "      <td>0</td>\n",
       "      <td>0</td>\n",
       "    </tr>\n",
       "    <tr>\n",
       "      <th>1457</th>\n",
       "      <td>1458</td>\n",
       "      <td>70</td>\n",
       "      <td>66.0</td>\n",
       "      <td>9042</td>\n",
       "      <td>7</td>\n",
       "      <td>9</td>\n",
       "      <td>1941</td>\n",
       "      <td>2006</td>\n",
       "      <td>0.0</td>\n",
       "      <td>275</td>\n",
       "      <td>...</td>\n",
       "      <td>0.0</td>\n",
       "      <td>0.0</td>\n",
       "      <td>0.0</td>\n",
       "      <td>1.0</td>\n",
       "      <td>0.0</td>\n",
       "      <td>0</td>\n",
       "      <td>1</td>\n",
       "      <td>0</td>\n",
       "      <td>0</td>\n",
       "      <td>0</td>\n",
       "    </tr>\n",
       "    <tr>\n",
       "      <th>1458</th>\n",
       "      <td>1459</td>\n",
       "      <td>20</td>\n",
       "      <td>68.0</td>\n",
       "      <td>9717</td>\n",
       "      <td>5</td>\n",
       "      <td>6</td>\n",
       "      <td>1950</td>\n",
       "      <td>1996</td>\n",
       "      <td>0.0</td>\n",
       "      <td>49</td>\n",
       "      <td>...</td>\n",
       "      <td>0.0</td>\n",
       "      <td>0.0</td>\n",
       "      <td>0.0</td>\n",
       "      <td>1.0</td>\n",
       "      <td>0.0</td>\n",
       "      <td>0</td>\n",
       "      <td>1</td>\n",
       "      <td>0</td>\n",
       "      <td>0</td>\n",
       "      <td>0</td>\n",
       "    </tr>\n",
       "    <tr>\n",
       "      <th>1459</th>\n",
       "      <td>1460</td>\n",
       "      <td>20</td>\n",
       "      <td>75.0</td>\n",
       "      <td>9937</td>\n",
       "      <td>5</td>\n",
       "      <td>6</td>\n",
       "      <td>1965</td>\n",
       "      <td>1965</td>\n",
       "      <td>0.0</td>\n",
       "      <td>830</td>\n",
       "      <td>...</td>\n",
       "      <td>0.0</td>\n",
       "      <td>0.0</td>\n",
       "      <td>0.0</td>\n",
       "      <td>1.0</td>\n",
       "      <td>0.0</td>\n",
       "      <td>0</td>\n",
       "      <td>1</td>\n",
       "      <td>0</td>\n",
       "      <td>0</td>\n",
       "      <td>0</td>\n",
       "    </tr>\n",
       "  </tbody>\n",
       "</table>\n",
       "<p>1460 rows × 50 columns</p>\n",
       "</div>"
      ],
      "text/plain": [
       "        Id  MSSubClass  LotFrontage  LotArea  OverallQual  OverallCond  \\\n",
       "0        1          60         65.0     8450            7            5   \n",
       "1        2          20         80.0     9600            6            8   \n",
       "2        3          60         68.0    11250            7            5   \n",
       "3        4          70         60.0     9550            7            5   \n",
       "4        5          60         84.0    14260            8            5   \n",
       "...    ...         ...          ...      ...          ...          ...   \n",
       "1455  1456          60         62.0     7917            6            5   \n",
       "1456  1457          20         85.0    13175            6            6   \n",
       "1457  1458          70         66.0     9042            7            9   \n",
       "1458  1459          20         68.0     9717            5            6   \n",
       "1459  1460          20         75.0     9937            5            6   \n",
       "\n",
       "      YearBuilt  YearRemodAdd  MasVnrArea  BsmtFinSF1  ...  MSZoning_C (all)  \\\n",
       "0          2003          2003       196.0         706  ...               0.0   \n",
       "1          1976          1976         0.0         978  ...               0.0   \n",
       "2          2001          2002       162.0         486  ...               0.0   \n",
       "3          1915          1970         0.0         216  ...               0.0   \n",
       "4          2000          2000       350.0         655  ...               0.0   \n",
       "...         ...           ...         ...         ...  ...               ...   \n",
       "1455       1999          2000         0.0           0  ...               0.0   \n",
       "1456       1978          1988       119.0         790  ...               0.0   \n",
       "1457       1941          2006         0.0         275  ...               0.0   \n",
       "1458       1950          1996         0.0          49  ...               0.0   \n",
       "1459       1965          1965         0.0         830  ...               0.0   \n",
       "\n",
       "      MSZoning_FV  MSZoning_RH  MSZoning_RL  MSZoning_RM  GarageType_-1  \\\n",
       "0             0.0          0.0          1.0          0.0              0   \n",
       "1             0.0          0.0          1.0          0.0              0   \n",
       "2             0.0          0.0          1.0          0.0              0   \n",
       "3             0.0          0.0          1.0          0.0              0   \n",
       "4             0.0          0.0          1.0          0.0              0   \n",
       "...           ...          ...          ...          ...            ...   \n",
       "1455          0.0          0.0          1.0          0.0              0   \n",
       "1456          0.0          0.0          1.0          0.0              0   \n",
       "1457          0.0          0.0          1.0          0.0              0   \n",
       "1458          0.0          0.0          1.0          0.0              0   \n",
       "1459          0.0          0.0          1.0          0.0              0   \n",
       "\n",
       "      GarageType_Attchd  GarageType_BuiltIn  GarageType_Detchd  \\\n",
       "0                     1                   0                  0   \n",
       "1                     1                   0                  0   \n",
       "2                     1                   0                  0   \n",
       "3                     0                   0                  1   \n",
       "4                     1                   0                  0   \n",
       "...                 ...                 ...                ...   \n",
       "1455                  1                   0                  0   \n",
       "1456                  1                   0                  0   \n",
       "1457                  1                   0                  0   \n",
       "1458                  1                   0                  0   \n",
       "1459                  1                   0                  0   \n",
       "\n",
       "      GarageType_infrequent_sklearn  \n",
       "0                                 0  \n",
       "1                                 0  \n",
       "2                                 0  \n",
       "3                                 0  \n",
       "4                                 0  \n",
       "...                             ...  \n",
       "1455                              0  \n",
       "1456                              0  \n",
       "1457                              0  \n",
       "1458                              0  \n",
       "1459                              0  \n",
       "\n",
       "[1460 rows x 50 columns]"
      ]
     },
     "execution_count": 6,
     "metadata": {},
     "output_type": "execute_result"
    }
   ],
   "source": [
    "# Selecionando apenas as colunas numéricas\n",
    "cols_num = treino.select_dtypes('number')\n",
    "cols_num"
   ]
  },
  {
   "cell_type": "code",
   "execution_count": 7,
   "id": "ba3f0cd6",
   "metadata": {},
   "outputs": [
    {
     "data": {
      "text/plain": [
       "(1460, 50)"
      ]
     },
     "execution_count": 7,
     "metadata": {},
     "output_type": "execute_result"
    }
   ],
   "source": [
    "# E criar uma nova base com esses valores\n",
    "treino = cols_num\n",
    "treino.shape"
   ]
  },
  {
   "cell_type": "code",
   "execution_count": 8,
   "id": "df22cf39",
   "metadata": {},
   "outputs": [
    {
     "data": {
      "text/plain": [
       "(1459, 49)"
      ]
     },
     "execution_count": 8,
     "metadata": {},
     "output_type": "execute_result"
    }
   ],
   "source": [
    "# Mantendo também apenas as colunas numéricas para a base de teste (que não possui SalePrice)\n",
    "teste = teste.select_dtypes('number')\n",
    "teste.shape"
   ]
  },
  {
   "cell_type": "markdown",
   "id": "5a686ce6",
   "metadata": {},
   "source": [
    "## Criando nosso modelo"
   ]
  },
  {
   "cell_type": "markdown",
   "id": "ee0b769c",
   "metadata": {},
   "source": [
    "- **Vamos separar em treino e validação:**\n",
    "    - https://scikit-learn.org/stable/modules/generated/sklearn.model_selection.train_test_split.html"
   ]
  },
  {
   "cell_type": "code",
   "execution_count": 11,
   "id": "7f7b8193",
   "metadata": {},
   "outputs": [],
   "source": [
    "# Selecionando X e y\n",
    "X = treino.drop('SalePrice', axis=1)\n",
    "y = treino.SalePrice"
   ]
  },
  {
   "cell_type": "code",
   "execution_count": 12,
   "id": "149956b5",
   "metadata": {},
   "outputs": [],
   "source": [
    "# Importando o train_test_split\n",
    "from sklearn.model_selection import train_test_split"
   ]
  },
  {
   "cell_type": "code",
   "execution_count": 13,
   "id": "6ec49ce2",
   "metadata": {},
   "outputs": [],
   "source": [
    "# Separando essa base em treino e validação\n",
    "X_train, X_val, y_train, y_val = train_test_split(X, y, test_size=0.33, random_state=42)"
   ]
  },
  {
   "cell_type": "markdown",
   "id": "ed61f63b-12cc-463c-a8a9-b02a2574089a",
   "metadata": {},
   "source": [
    "- **Vamos então adicionar os algoritmos nessa análise:**\n",
    "    - RandomForestRegressor\n",
    "        - https://scikit-learn.org/stable/modules/generated/sklearn.ensemble.RandomForestRegressor.html#sklearn.ensemble.RandomForestRegressor\n",
    "    - XGBoost\n",
    "        - https://xgboost.readthedocs.io/en/stable/index.html"
   ]
  },
  {
   "cell_type": "markdown",
   "id": "88a5677a-7cdb-4d0c-ac38-f18f53c80c71",
   "metadata": {},
   "source": [
    "- E vamos usar o **grid_search** para estimar os melhores parâmetros\n",
    "    - https://scikit-learn.org/stable/modules/generated/sklearn.model_selection.GridSearchCV.html"
   ]
  },
  {
   "cell_type": "code",
   "execution_count": 16,
   "id": "8f6758e2-3c38-410a-b8c9-3b6f44372fe2",
   "metadata": {},
   "outputs": [],
   "source": [
    "import warnings\n",
    "warnings.filterwarnings('ignore')"
   ]
  },
  {
   "cell_type": "code",
   "execution_count": 17,
   "id": "7237f568-57a1-4412-9ee6-e5e0c6ddd082",
   "metadata": {},
   "outputs": [],
   "source": [
    "# Para o RandomForestRegressor\n",
    "from sklearn.ensemble import RandomForestRegressor\n",
    "reg_rf = RandomForestRegressor(random_state=42)\n",
    "parametros_rf = {\n",
    "    'n_estimators': [100, 200, 500, 800, 1000],\n",
    "    'criterion': ['squared_error','poisson'],\n",
    "    'max_depth': [10, 20, 30, 40, 50],\n",
    "    'max_features': ['auto', 'sqrt']\n",
    "}"
   ]
  },
  {
   "cell_type": "code",
   "execution_count": 18,
   "id": "3417fe5a-d4b8-4952-9f8a-8dc2248dde66",
   "metadata": {},
   "outputs": [],
   "source": [
    "# Fazendo o grid search\n",
    "from sklearn.model_selection import GridSearchCV\n",
    "grid_search_rf = GridSearchCV(estimator=reg_rf,param_grid=parametros_rf,scoring='neg_mean_squared_error')\n",
    "grid_search_rf = grid_search_rf.fit(X_train, y_train)"
   ]
  },
  {
   "cell_type": "code",
   "execution_count": 19,
   "id": "857a3573-55ce-4eb7-915c-5511ca4a9939",
   "metadata": {},
   "outputs": [
    {
     "data": {
      "text/plain": [
       "{'criterion': 'poisson',\n",
       " 'max_depth': 30,\n",
       " 'max_features': 'sqrt',\n",
       " 'n_estimators': 1000}"
      ]
     },
     "execution_count": 19,
     "metadata": {},
     "output_type": "execute_result"
    }
   ],
   "source": [
    "# Verificando os melhores parâmetros para o RandomForest\n",
    "grid_search_rf.best_params_"
   ]
  },
  {
   "cell_type": "code",
   "execution_count": 20,
   "id": "ed7e6180-c036-4c2c-a717-db0d234680f0",
   "metadata": {},
   "outputs": [
    {
     "data": {
      "text/plain": [
       "908443856.4984334"
      ]
     },
     "execution_count": 20,
     "metadata": {},
     "output_type": "execute_result"
    }
   ],
   "source": [
    "# E o melhor score\n",
    "grid_search_rf.best_score_*(-1)"
   ]
  },
  {
   "cell_type": "code",
   "execution_count": 21,
   "id": "d25d1d26-ff6a-408e-9555-da6dd034889b",
   "metadata": {},
   "outputs": [],
   "source": [
    "# Para o XGBoost\n",
    "from xgboost import XGBRegressor\n",
    "reg_xgb = XGBRegressor(random_state=42)\n",
    "parametros_xgb = {\n",
    "    'learning_rate': [0.3, 0.03, 0.1],\n",
    "    'max_depth': [5, 8, 10, 20, 30, 40, 50],\n",
    "    'n_estimators': [100, 500, 1000],\n",
    "    'colsample_bytree': [0.7, 1]\n",
    "}"
   ]
  },
  {
   "cell_type": "code",
   "execution_count": 22,
   "id": "40ba4b3d-29b0-4b8a-b73e-ef79fe0f9ba8",
   "metadata": {},
   "outputs": [],
   "source": [
    "# Também fazendo o grid search\n",
    "grid_search_xgb = GridSearchCV(estimator=reg_xgb,param_grid=parametros_xgb,scoring='neg_mean_squared_error')\n",
    "grid_search_xgb = grid_search_xgb.fit(X_train, y_train)"
   ]
  },
  {
   "cell_type": "code",
   "execution_count": 23,
   "id": "938a71f8-47bc-45ee-9ceb-d1b994ca124d",
   "metadata": {},
   "outputs": [
    {
     "data": {
      "text/plain": [
       "{'colsample_bytree': 0.7,\n",
       " 'learning_rate': 0.1,\n",
       " 'max_depth': 5,\n",
       " 'n_estimators': 100}"
      ]
     },
     "execution_count": 23,
     "metadata": {},
     "output_type": "execute_result"
    }
   ],
   "source": [
    "# Verificando os melhores parâmetros\n",
    "grid_search_xgb.best_params_"
   ]
  },
  {
   "cell_type": "code",
   "execution_count": 24,
   "id": "431750c2-dfe9-44dd-96a5-cf2b454264a1",
   "metadata": {},
   "outputs": [
    {
     "data": {
      "text/plain": [
       "903869257.5375307"
      ]
     },
     "execution_count": 24,
     "metadata": {},
     "output_type": "execute_result"
    }
   ],
   "source": [
    "# E o melhor score\n",
    "grid_search_xgb.best_score_*(-1)"
   ]
  },
  {
   "cell_type": "markdown",
   "id": "15bd1493-1764-4899-96f2-ddfa58bbfda0",
   "metadata": {},
   "source": [
    "- **Selecionando o melhor estimador para os dois algoritmos**"
   ]
  },
  {
   "cell_type": "code",
   "execution_count": 26,
   "id": "2efc983c-72f8-4868-aa78-9ff78295f489",
   "metadata": {},
   "outputs": [],
   "source": [
    "# Para o Random Forest\n",
    "reg_rf_best = grid_search_rf.best_estimator_"
   ]
  },
  {
   "cell_type": "code",
   "execution_count": 27,
   "id": "8a423168-ca4d-47b9-a8b4-ec6d1ca91b0c",
   "metadata": {},
   "outputs": [],
   "source": [
    "# Para o XGBoost\n",
    "reg_xgb_best = grid_search_xgb.best_estimator_"
   ]
  },
  {
   "cell_type": "markdown",
   "id": "ac4ede13-cd0b-4a53-9ba5-0c78e0aa3a53",
   "metadata": {},
   "source": [
    "- **Fazendo a previsão no X_val**"
   ]
  },
  {
   "cell_type": "code",
   "execution_count": 29,
   "id": "1913cc44-88fd-41b6-8b08-a7192839dda3",
   "metadata": {},
   "outputs": [],
   "source": [
    "# RandomForest\n",
    "y_pred_rf = reg_rf_best.predict(X_val)"
   ]
  },
  {
   "cell_type": "code",
   "execution_count": 30,
   "id": "9f1a6ca2-a508-4d34-aae8-aeccdc4c0087",
   "metadata": {},
   "outputs": [],
   "source": [
    "# XGBoost\n",
    "y_pred_xgb = reg_xgb_best.predict(X_val)"
   ]
  },
  {
   "cell_type": "markdown",
   "id": "fdd63bff",
   "metadata": {},
   "source": [
    "- **E avaliar esses dados, utilizando tanto o erro absoluto quanto o quadrático:**\n",
    "    - Erro médio absoluto\n",
    "        - https://scikit-learn.org/stable/modules/generated/sklearn.metrics.mean_absolute_error.html\n",
    "    - Erro quadrático médio\n",
    "        - https://scikit-learn.org/stable/modules/generated/sklearn.metrics.mean_squared_error.html"
   ]
  },
  {
   "cell_type": "code",
   "execution_count": 32,
   "id": "269a3bcd",
   "metadata": {},
   "outputs": [],
   "source": [
    "# Importando o erro médio absoluto\n",
    "from sklearn.metrics import mean_absolute_error"
   ]
  },
  {
   "cell_type": "code",
   "execution_count": 33,
   "id": "12eb2132",
   "metadata": {},
   "outputs": [],
   "source": [
    "# E o erro quadrático médio\n",
    "from sklearn.metrics import mean_squared_error"
   ]
  },
  {
   "cell_type": "code",
   "execution_count": 34,
   "id": "2417d97e",
   "metadata": {},
   "outputs": [
    {
     "name": "stdout",
     "output_type": "stream",
     "text": [
      "17117.091819502075\n",
      "1037051614.3686688\n"
     ]
    }
   ],
   "source": [
    "# do Random Forest\n",
    "print(mean_absolute_error(y_val, y_pred_rf))\n",
    "print(mean_squared_error(y_val, y_pred_rf))"
   ]
  },
  {
   "cell_type": "code",
   "execution_count": 35,
   "id": "b3159911",
   "metadata": {},
   "outputs": [
    {
     "name": "stdout",
     "output_type": "stream",
     "text": [
      "17378.86533973029\n",
      "1057275922.3176669\n"
     ]
    }
   ],
   "source": [
    "# e do XGBoost\n",
    "print(mean_absolute_error(y_val, y_pred_xgb))\n",
    "print(mean_squared_error(y_val, y_pred_xgb))"
   ]
  },
  {
   "cell_type": "markdown",
   "id": "162028e9",
   "metadata": {},
   "source": [
    "- **Podemos plotar visualmente a relação do y_val com as previsões feitas:**\n",
    "    - Para isso vamos utilizar o matplotlib\n",
    "        - https://matplotlib.org/"
   ]
  },
  {
   "cell_type": "code",
   "execution_count": 37,
   "id": "7e5f78f8",
   "metadata": {},
   "outputs": [],
   "source": [
    "# Importando o matplotlib\n",
    "import matplotlib.pyplot as plt"
   ]
  },
  {
   "cell_type": "code",
   "execution_count": 38,
   "id": "a6bf59eb",
   "metadata": {},
   "outputs": [
    {
     "data": {
      "image/png": "[encoded data removed]",
      "text/plain": [
       "<Figure size 1500x500 with 2 Axes>"
      ]
     },
     "metadata": {},
     "output_type": "display_data"
    }
   ],
   "source": [
    "# Criando esse gráfico\n",
    "fig, ax = plt.subplots(ncols=2, figsize=(15, 5))\n",
    "\n",
    "ax[0].scatter(y_val/100000, y_pred_rf/100000)\n",
    "ax[0].plot([0,8], [0,8], '--r')\n",
    "ax[1].scatter(y_val/100000, y_pred_xgb/100000)\n",
    "ax[1].plot([0,8], [0,8], '--r')\n",
    "\n",
    "ax[0].set(xlim=(0, 8), ylim=(0, 8))\n",
    "ax[0].set_xlabel('y_val (x100.000)')\n",
    "ax[0].set_ylabel('y_pred (x100.000)')\n",
    "ax[0].set_title('Random Forest')\n",
    "ax[1].set(xlim=(0, 8), ylim=(0, 8))\n",
    "ax[1].set_xlabel('y_val (x100.000)')\n",
    "ax[1].set_ylabel('y_pred (x100.000)')\n",
    "ax[1].set_title('XGBoost')\n",
    "\n",
    "plt.show()"
   ]
  },
  {
   "cell_type": "markdown",
   "id": "d855508c",
   "metadata": {},
   "source": [
    "## Fazendo a previsão para a base de teste da competição."
   ]
  },
  {
   "cell_type": "code",
   "execution_count": 40,
   "id": "83a9ca6f",
   "metadata": {},
   "outputs": [
    {
     "data": {
      "text/html": [
       "<div>\n",
       "<style scoped>\n",
       "    .dataframe tbody tr th:only-of-type {\n",
       "        vertical-align: middle;\n",
       "    }\n",
       "\n",
       "    .dataframe tbody tr th {\n",
       "        vertical-align: top;\n",
       "    }\n",
       "\n",
       "    .dataframe thead th {\n",
       "        text-align: right;\n",
       "    }\n",
       "</style>\n",
       "<table border=\"1\" class=\"dataframe\">\n",
       "  <thead>\n",
       "    <tr style=\"text-align: right;\">\n",
       "      <th></th>\n",
       "      <th>Id</th>\n",
       "      <th>MSSubClass</th>\n",
       "      <th>LotFrontage</th>\n",
       "      <th>LotArea</th>\n",
       "      <th>OverallQual</th>\n",
       "      <th>OverallCond</th>\n",
       "      <th>YearBuilt</th>\n",
       "      <th>YearRemodAdd</th>\n",
       "      <th>MasVnrArea</th>\n",
       "      <th>BsmtFinSF1</th>\n",
       "      <th>...</th>\n",
       "      <th>MSZoning_C (all)</th>\n",
       "      <th>MSZoning_FV</th>\n",
       "      <th>MSZoning_RH</th>\n",
       "      <th>MSZoning_RL</th>\n",
       "      <th>MSZoning_RM</th>\n",
       "      <th>GarageType_-1</th>\n",
       "      <th>GarageType_Attchd</th>\n",
       "      <th>GarageType_BuiltIn</th>\n",
       "      <th>GarageType_Detchd</th>\n",
       "      <th>GarageType_infrequent_sklearn</th>\n",
       "    </tr>\n",
       "  </thead>\n",
       "  <tbody>\n",
       "    <tr>\n",
       "      <th>0</th>\n",
       "      <td>1461</td>\n",
       "      <td>20</td>\n",
       "      <td>80.0</td>\n",
       "      <td>11622</td>\n",
       "      <td>5</td>\n",
       "      <td>6</td>\n",
       "      <td>1961</td>\n",
       "      <td>1961</td>\n",
       "      <td>0.0</td>\n",
       "      <td>468.0</td>\n",
       "      <td>...</td>\n",
       "      <td>0.0</td>\n",
       "      <td>0.0</td>\n",
       "      <td>1.0</td>\n",
       "      <td>0.0</td>\n",
       "      <td>0.0</td>\n",
       "      <td>0</td>\n",
       "      <td>1</td>\n",
       "      <td>0</td>\n",
       "      <td>0</td>\n",
       "      <td>0</td>\n",
       "    </tr>\n",
       "    <tr>\n",
       "      <th>1</th>\n",
       "      <td>1462</td>\n",
       "      <td>20</td>\n",
       "      <td>81.0</td>\n",
       "      <td>14267</td>\n",
       "      <td>6</td>\n",
       "      <td>6</td>\n",
       "      <td>1958</td>\n",
       "      <td>1958</td>\n",
       "      <td>108.0</td>\n",
       "      <td>923.0</td>\n",
       "      <td>...</td>\n",
       "      <td>0.0</td>\n",
       "      <td>0.0</td>\n",
       "      <td>0.0</td>\n",
       "      <td>1.0</td>\n",
       "      <td>0.0</td>\n",
       "      <td>0</td>\n",
       "      <td>1</td>\n",
       "      <td>0</td>\n",
       "      <td>0</td>\n",
       "      <td>0</td>\n",
       "    </tr>\n",
       "    <tr>\n",
       "      <th>2</th>\n",
       "      <td>1463</td>\n",
       "      <td>60</td>\n",
       "      <td>74.0</td>\n",
       "      <td>13830</td>\n",
       "      <td>5</td>\n",
       "      <td>5</td>\n",
       "      <td>1997</td>\n",
       "      <td>1998</td>\n",
       "      <td>0.0</td>\n",
       "      <td>791.0</td>\n",
       "      <td>...</td>\n",
       "      <td>0.0</td>\n",
       "      <td>0.0</td>\n",
       "      <td>0.0</td>\n",
       "      <td>1.0</td>\n",
       "      <td>0.0</td>\n",
       "      <td>0</td>\n",
       "      <td>1</td>\n",
       "      <td>0</td>\n",
       "      <td>0</td>\n",
       "      <td>0</td>\n",
       "    </tr>\n",
       "  </tbody>\n",
       "</table>\n",
       "<p>3 rows × 49 columns</p>\n",
       "</div>"
      ],
      "text/plain": [
       "     Id  MSSubClass  LotFrontage  LotArea  OverallQual  OverallCond  \\\n",
       "0  1461          20         80.0    11622            5            6   \n",
       "1  1462          20         81.0    14267            6            6   \n",
       "2  1463          60         74.0    13830            5            5   \n",
       "\n",
       "   YearBuilt  YearRemodAdd  MasVnrArea  BsmtFinSF1  ...  MSZoning_C (all)  \\\n",
       "0       1961          1961         0.0       468.0  ...               0.0   \n",
       "1       1958          1958       108.0       923.0  ...               0.0   \n",
       "2       1997          1998         0.0       791.0  ...               0.0   \n",
       "\n",
       "   MSZoning_FV  MSZoning_RH  MSZoning_RL  MSZoning_RM  GarageType_-1  \\\n",
       "0          0.0          1.0          0.0          0.0              0   \n",
       "1          0.0          0.0          1.0          0.0              0   \n",
       "2          0.0          0.0          1.0          0.0              0   \n",
       "\n",
       "   GarageType_Attchd  GarageType_BuiltIn  GarageType_Detchd  \\\n",
       "0                  1                   0                  0   \n",
       "1                  1                   0                  0   \n",
       "2                  1                   0                  0   \n",
       "\n",
       "   GarageType_infrequent_sklearn  \n",
       "0                              0  \n",
       "1                              0  \n",
       "2                              0  \n",
       "\n",
       "[3 rows x 49 columns]"
      ]
     },
     "execution_count": 40,
     "metadata": {},
     "output_type": "execute_result"
    }
   ],
   "source": [
    "# Visualizando a base\n",
    "teste.head(3)"
   ]
  },
  {
   "cell_type": "markdown",
   "id": "d93afe2c-c9df-4017-9b78-5321ddea6e24",
   "metadata": {},
   "source": [
    "- Vamos fazer a previsão com o Random Forest"
   ]
  },
  {
   "cell_type": "code",
   "execution_count": 42,
   "id": "9b09d278",
   "metadata": {
    "scrolled": true
   },
   "outputs": [],
   "source": [
    "# Vamos usar o Random Forest para fazer a previsão\n",
    "y_pred = reg_rf_best.predict(teste)"
   ]
  },
  {
   "cell_type": "code",
   "execution_count": 43,
   "id": "511117c5",
   "metadata": {},
   "outputs": [],
   "source": [
    "# Podemos adicionar essa coluna de previsão na nossa base\n",
    "teste['SalePrice'] = y_pred"
   ]
  },
  {
   "cell_type": "code",
   "execution_count": 44,
   "id": "bc1fd647",
   "metadata": {},
   "outputs": [
    {
     "data": {
      "text/html": [
       "<div>\n",
       "<style scoped>\n",
       "    .dataframe tbody tr th:only-of-type {\n",
       "        vertical-align: middle;\n",
       "    }\n",
       "\n",
       "    .dataframe tbody tr th {\n",
       "        vertical-align: top;\n",
       "    }\n",
       "\n",
       "    .dataframe thead th {\n",
       "        text-align: right;\n",
       "    }\n",
       "</style>\n",
       "<table border=\"1\" class=\"dataframe\">\n",
       "  <thead>\n",
       "    <tr style=\"text-align: right;\">\n",
       "      <th></th>\n",
       "      <th>Id</th>\n",
       "      <th>SalePrice</th>\n",
       "    </tr>\n",
       "  </thead>\n",
       "  <tbody>\n",
       "    <tr>\n",
       "      <th>0</th>\n",
       "      <td>1461</td>\n",
       "      <td>124209.844</td>\n",
       "    </tr>\n",
       "    <tr>\n",
       "      <th>1</th>\n",
       "      <td>1462</td>\n",
       "      <td>154615.060</td>\n",
       "    </tr>\n",
       "    <tr>\n",
       "      <th>2</th>\n",
       "      <td>1463</td>\n",
       "      <td>186980.521</td>\n",
       "    </tr>\n",
       "  </tbody>\n",
       "</table>\n",
       "</div>"
      ],
      "text/plain": [
       "     Id   SalePrice\n",
       "0  1461  124209.844\n",
       "1  1462  154615.060\n",
       "2  1463  186980.521"
      ]
     },
     "execution_count": 44,
     "metadata": {},
     "output_type": "execute_result"
    }
   ],
   "source": [
    "# E extrair somente o Id e o SalePrice\n",
    "base_kaggle = teste[['Id','SalePrice']]\n",
    "base_kaggle.head(3)"
   ]
  },
  {
   "cell_type": "code",
   "execution_count": 45,
   "id": "12ed759f-b433-4685-8b9b-22bdef863210",
   "metadata": {},
   "outputs": [],
   "source": [
    "# Podemos então exportar essa base\n",
    "base_kaggle.to_csv('resultado5_1_rf.csv',index=False)"
   ]
  },
  {
   "cell_type": "markdown",
   "id": "7739d573-3d22-435a-8ceb-9ec09e67d51d",
   "metadata": {},
   "source": [
    "- Podemos também fazer a previsão com o XGBoost"
   ]
  },
  {
   "cell_type": "code",
   "execution_count": 47,
   "id": "8b8003ae-2df1-4f44-9fbc-945879f2c751",
   "metadata": {},
   "outputs": [
    {
     "data": {
      "text/html": [
       "<div>\n",
       "<style scoped>\n",
       "    .dataframe tbody tr th:only-of-type {\n",
       "        vertical-align: middle;\n",
       "    }\n",
       "\n",
       "    .dataframe tbody tr th {\n",
       "        vertical-align: top;\n",
       "    }\n",
       "\n",
       "    .dataframe thead th {\n",
       "        text-align: right;\n",
       "    }\n",
       "</style>\n",
       "<table border=\"1\" class=\"dataframe\">\n",
       "  <thead>\n",
       "    <tr style=\"text-align: right;\">\n",
       "      <th></th>\n",
       "      <th>Id</th>\n",
       "      <th>MSSubClass</th>\n",
       "      <th>LotFrontage</th>\n",
       "      <th>LotArea</th>\n",
       "      <th>OverallQual</th>\n",
       "      <th>OverallCond</th>\n",
       "      <th>YearBuilt</th>\n",
       "      <th>YearRemodAdd</th>\n",
       "      <th>MasVnrArea</th>\n",
       "      <th>BsmtFinSF1</th>\n",
       "      <th>...</th>\n",
       "      <th>MSZoning_FV</th>\n",
       "      <th>MSZoning_RH</th>\n",
       "      <th>MSZoning_RL</th>\n",
       "      <th>MSZoning_RM</th>\n",
       "      <th>GarageType_-1</th>\n",
       "      <th>GarageType_Attchd</th>\n",
       "      <th>GarageType_BuiltIn</th>\n",
       "      <th>GarageType_Detchd</th>\n",
       "      <th>GarageType_infrequent_sklearn</th>\n",
       "      <th>SalePrice</th>\n",
       "    </tr>\n",
       "  </thead>\n",
       "  <tbody>\n",
       "    <tr>\n",
       "      <th>0</th>\n",
       "      <td>1461</td>\n",
       "      <td>20</td>\n",
       "      <td>80.0</td>\n",
       "      <td>11622</td>\n",
       "      <td>5</td>\n",
       "      <td>6</td>\n",
       "      <td>1961</td>\n",
       "      <td>1961</td>\n",
       "      <td>0.0</td>\n",
       "      <td>468.0</td>\n",
       "      <td>...</td>\n",
       "      <td>0.0</td>\n",
       "      <td>1.0</td>\n",
       "      <td>0.0</td>\n",
       "      <td>0.0</td>\n",
       "      <td>0</td>\n",
       "      <td>1</td>\n",
       "      <td>0</td>\n",
       "      <td>0</td>\n",
       "      <td>0</td>\n",
       "      <td>124209.844</td>\n",
       "    </tr>\n",
       "    <tr>\n",
       "      <th>1</th>\n",
       "      <td>1462</td>\n",
       "      <td>20</td>\n",
       "      <td>81.0</td>\n",
       "      <td>14267</td>\n",
       "      <td>6</td>\n",
       "      <td>6</td>\n",
       "      <td>1958</td>\n",
       "      <td>1958</td>\n",
       "      <td>108.0</td>\n",
       "      <td>923.0</td>\n",
       "      <td>...</td>\n",
       "      <td>0.0</td>\n",
       "      <td>0.0</td>\n",
       "      <td>1.0</td>\n",
       "      <td>0.0</td>\n",
       "      <td>0</td>\n",
       "      <td>1</td>\n",
       "      <td>0</td>\n",
       "      <td>0</td>\n",
       "      <td>0</td>\n",
       "      <td>154615.060</td>\n",
       "    </tr>\n",
       "    <tr>\n",
       "      <th>2</th>\n",
       "      <td>1463</td>\n",
       "      <td>60</td>\n",
       "      <td>74.0</td>\n",
       "      <td>13830</td>\n",
       "      <td>5</td>\n",
       "      <td>5</td>\n",
       "      <td>1997</td>\n",
       "      <td>1998</td>\n",
       "      <td>0.0</td>\n",
       "      <td>791.0</td>\n",
       "      <td>...</td>\n",
       "      <td>0.0</td>\n",
       "      <td>0.0</td>\n",
       "      <td>1.0</td>\n",
       "      <td>0.0</td>\n",
       "      <td>0</td>\n",
       "      <td>1</td>\n",
       "      <td>0</td>\n",
       "      <td>0</td>\n",
       "      <td>0</td>\n",
       "      <td>186980.521</td>\n",
       "    </tr>\n",
       "  </tbody>\n",
       "</table>\n",
       "<p>3 rows × 50 columns</p>\n",
       "</div>"
      ],
      "text/plain": [
       "     Id  MSSubClass  LotFrontage  LotArea  OverallQual  OverallCond  \\\n",
       "0  1461          20         80.0    11622            5            6   \n",
       "1  1462          20         81.0    14267            6            6   \n",
       "2  1463          60         74.0    13830            5            5   \n",
       "\n",
       "   YearBuilt  YearRemodAdd  MasVnrArea  BsmtFinSF1  ...  MSZoning_FV  \\\n",
       "0       1961          1961         0.0       468.0  ...          0.0   \n",
       "1       1958          1958       108.0       923.0  ...          0.0   \n",
       "2       1997          1998         0.0       791.0  ...          0.0   \n",
       "\n",
       "   MSZoning_RH  MSZoning_RL  MSZoning_RM  GarageType_-1  GarageType_Attchd  \\\n",
       "0          1.0          0.0          0.0              0                  1   \n",
       "1          0.0          1.0          0.0              0                  1   \n",
       "2          0.0          1.0          0.0              0                  1   \n",
       "\n",
       "   GarageType_BuiltIn  GarageType_Detchd  GarageType_infrequent_sklearn  \\\n",
       "0                   0                  0                              0   \n",
       "1                   0                  0                              0   \n",
       "2                   0                  0                              0   \n",
       "\n",
       "    SalePrice  \n",
       "0  124209.844  \n",
       "1  154615.060  \n",
       "2  186980.521  \n",
       "\n",
       "[3 rows x 50 columns]"
      ]
     },
     "execution_count": 47,
     "metadata": {},
     "output_type": "execute_result"
    }
   ],
   "source": [
    "# Visualizando novamente a base de teste\n",
    "teste.head(3)"
   ]
  },
  {
   "cell_type": "code",
   "execution_count": 48,
   "id": "d8e4a99a-8f64-4655-ab6f-32f8bb8d02f9",
   "metadata": {},
   "outputs": [],
   "source": [
    "# Retirando a coluna SalePrice\n",
    "teste = teste.drop('SalePrice', axis=1)"
   ]
  },
  {
   "cell_type": "code",
   "execution_count": 49,
   "id": "3ae4080b-2fa2-44d4-9f74-c2f90f9ab661",
   "metadata": {},
   "outputs": [],
   "source": [
    "# Usando o XGBoost para fazer a regressão\n",
    "y_pred = reg_xgb_best.predict(teste)"
   ]
  },
  {
   "cell_type": "code",
   "execution_count": 50,
   "id": "ee0665e2-ad3c-44a5-9da5-c79f81d3a0f1",
   "metadata": {},
   "outputs": [],
   "source": [
    "# Podemos novamente adicionar a coluna na base\n",
    "teste['SalePrice'] = y_pred"
   ]
  },
  {
   "cell_type": "code",
   "execution_count": 51,
   "id": "f9284f3f-35ad-4774-bb95-d64366c2d526",
   "metadata": {},
   "outputs": [
    {
     "data": {
      "text/html": [
       "<div>\n",
       "<style scoped>\n",
       "    .dataframe tbody tr th:only-of-type {\n",
       "        vertical-align: middle;\n",
       "    }\n",
       "\n",
       "    .dataframe tbody tr th {\n",
       "        vertical-align: top;\n",
       "    }\n",
       "\n",
       "    .dataframe thead th {\n",
       "        text-align: right;\n",
       "    }\n",
       "</style>\n",
       "<table border=\"1\" class=\"dataframe\">\n",
       "  <thead>\n",
       "    <tr style=\"text-align: right;\">\n",
       "      <th></th>\n",
       "      <th>Id</th>\n",
       "      <th>SalePrice</th>\n",
       "    </tr>\n",
       "  </thead>\n",
       "  <tbody>\n",
       "    <tr>\n",
       "      <th>0</th>\n",
       "      <td>1461</td>\n",
       "      <td>120369.296875</td>\n",
       "    </tr>\n",
       "    <tr>\n",
       "      <th>1</th>\n",
       "      <td>1462</td>\n",
       "      <td>155539.953125</td>\n",
       "    </tr>\n",
       "    <tr>\n",
       "      <th>2</th>\n",
       "      <td>1463</td>\n",
       "      <td>186881.500000</td>\n",
       "    </tr>\n",
       "  </tbody>\n",
       "</table>\n",
       "</div>"
      ],
      "text/plain": [
       "     Id      SalePrice\n",
       "0  1461  120369.296875\n",
       "1  1462  155539.953125\n",
       "2  1463  186881.500000"
      ]
     },
     "execution_count": 51,
     "metadata": {},
     "output_type": "execute_result"
    }
   ],
   "source": [
    "# E extrair somente o Id e o SalePrice\n",
    "base_kaggle = teste[['Id','SalePrice']]\n",
    "base_kaggle.head(3)"
   ]
  },
  {
   "cell_type": "code",
   "execution_count": 52,
   "id": "bbef3d6a-e18b-40da-ac2f-48d384bc73c2",
   "metadata": {},
   "outputs": [],
   "source": [
    "# E exportar a nova base\n",
    "base_kaggle.to_csv('resultado5_1_xgb.csv',index=False)"
   ]
  }
 ],
 "metadata": {
  "kernelspec": {
   "display_name": "Python 3 (ipykernel)",
   "language": "python",
   "name": "python3"
  },
  "language_info": {
   "codemirror_mode": {
    "name": "ipython",
    "version": 3
   },
   "file_extension": ".py",
   "mimetype": "text/x-python",
   "name": "python",
   "nbconvert_exporter": "python",
   "pygments_lexer": "ipython3",
   "version": "3.11.7"
  }
 },
 "nbformat": 4,
 "nbformat_minor": 5
}
